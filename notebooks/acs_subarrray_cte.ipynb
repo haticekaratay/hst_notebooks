{
 "cells": [
  {
   "cell_type": "markdown",
   "metadata": {},
   "source": [
    "# Introduction\n",
    "\n",
    "**Note:** This information has been adapted from the ACS Data Handbook v9.0, [Chapter 3.5.2](http://www.stsci.edu/hst/acs/documents/handbooks/currentDHB/acs_Ch36.html#129340) Example 5.\n",
    "\n",
    "**Warning:** Before running any code, please be sure you have installed and updated [AstroConda](https://astroconda.readthedocs.io/en/latest/) to the latest version.\n",
    "\n",
    "To download this page as a Python 3 Jupyter Notebook, please visit the [acs-notebook GitHub page](https://github.com/spacetelescope/acs-notebook).\n",
    "\n",
    "With the installation of the ASIC to replace the CCD electronics box during Servicing Mission 4 (SM4; May 2009), the ACS/WFC detector has low-level, horizontal striping present in the bias. This striping is removed as part of the `calacs` calibration pipeline for full-frame images, however de-striping is not performed automatically for subarray data. The pixel-based CTE correction cannot be performed on data with bias striping present, therefore ACS/WFC subarray data products retrieved from [MAST](https://archive.stsci.edu) will not be CTE-corrected. However, some subarray data can be corrected for CTE, which we will illustrate below.\n",
    "\n",
    "Beginning in Cycle 24 (November 2016), the ACS Team implemented new flight software that changed the way CCD subarray images are read out (see ACS ISR [2017-03](http://www.stsci.edu/hst/acs/documents/isrs/isr1703.pdf)). This change makes it possible to apply the pixel-based CTE correction to subarray images all subarray data taken after this date. \n",
    "\n",
    "Subarray data can be calibrated, de-striped, and CTE-corrected using the `acs_destripe_plus` code within the [ACSTOOLS](https://github.com/spacetelescope/acstools) Python package. This tool can be used to calibrate ACS/WFC subarray data in the following cases:\n",
    "\n",
    "1. 2K subarrays taken after SM4\n",
    "2. All other subarrays taken after the start of Cycle 24\n",
    "\n",
    "Note that the `acs_destripe_plus` code acts as a wrapper around the `calacs` code, performing all of the calibration steps that would normally be performed (i.e., bias/dark subtraction, flat-fielding, etc.). As such, this tool is used on `*_raw.fits` files."
   ]
  },
  {
   "cell_type": "markdown",
   "metadata": {},
   "source": [
    "# Example\n",
    "\n",
    "Our example data come from an observation of the globular cluster 47 Tuc, which is often used for ACS calibration. We will use the `astroquery` tool to download the dataset automatically. The association name is JD5702011, and it is comprised of two images in a CR-SPLIT pattern using the WFC1A-1K 1024x1024 subarray. The example will only use the first image with the rootname JD5702JMQ."
   ]
  },
  {
   "cell_type": "markdown",
   "metadata": {},
   "source": [
    "### Download the Data\n",
    "\n",
    "Note that the following code is simply for downloading the `*_raw.fits` file and moving it to the current working directory. If the file is already located in the current working directory, you do not need to repeat this step."
   ]
  },
  {
   "cell_type": "code",
   "execution_count": null,
   "metadata": {},
   "outputs": [],
   "source": [
    "from astroquery.mast import Observations\n",
    "import shutil\n",
    "\n",
    "Observations.download_products('2007656106', mrp_only=False, productSubGroupDescription=['RAW', 'UNCAL'], \n",
    "                              extension='fits', cache=True)\n",
    "\n",
    "shutil.move('mastDownload/HST/JD5702JMQ/jd5702jmq_raw.fits', '.')\n",
    "\n",
    "shutil.rmtree('mastDownload')"
   ]
  },
  {
   "cell_type": "markdown",
   "metadata": {},
   "source": [
    "### Update Header Keywords\n",
    "\n",
    "Next we will need to turn on the CTE correction switch in the primary header. We will also need to supply the names of the `PCTETAB` and `DRKCFILE` files, which are the CTE correction parameters and the CTE-corrected dark reference files, respectively. This information can be retrieved using the Python CRDS interface. Note that we have prefaced the names of the reference files with '`jref$`', which is the environment variable pointing to the directory containing ACS calibration data. You must set the JREF environment variable prior to proceding. This example assumes that you have placed the appropriate calibration reference files in your JREF directory. Visit the [CRDS](http://www.stsci.edu/hst/observatory/crds/) website to download calibration data."
   ]
  },
  {
   "cell_type": "code",
   "execution_count": null,
   "metadata": {},
   "outputs": [],
   "source": [
    "from astropy.io import fits\n",
    "from crds import getrecommendations\n",
    "from crds import client\n",
    "\n",
    "with fits.open('jd5702jmq_raw.fits') as hdu:\n",
    "    date = hdu[0].header['DATE-OBS']\n",
    "    time = hdu[0].header['TIME-OBS']\n",
    "    amps = hdu[0].header['CCDAMP']\n",
    "    gain = hdu[0].header['CCDGAIN']\n",
    "\n",
    "client.set_crds_server('https://hst-crds.stsci.edu')\n",
    "params = {'INSTRUME': 'ACS', 'DETECTOR': 'WFC', 'DATE-OBS': date, 'TIME-OBS': time, \n",
    "          'CCDAMP': amps, 'CCDGAIN': gain}\n",
    "reffiles = getrecommendations(parameters=params, reftypes=['PCTETAB', 'DRKCFILE'], \n",
    "                              observatory='hst')\n",
    "\n",
    "with fits.open('jd5702jmq_raw.fits', mode='update') as hdu:\n",
    "    hdu[0].header['PCTECORR'] = 'PERFORM'\n",
    "    hdu[0].header['PCTETAB'] = 'jref$' + reffiles['pctetab']\n",
    "    hdu[0].header['DRKCFILE'] = 'jref$' + reffiles['drkcfile']"
   ]
  },
  {
   "cell_type": "markdown",
   "metadata": {},
   "source": [
    "### Run acs_destripe_plus\n",
    "\n",
    "Next we will run the `acs_destripe_plus` code on our image. This will execute all of the calibration steps that are set to \"PERFORM\" in the primary header of the FITS file. Note that with the CTE correction turned on, this can take some time. On an 8 core machine, the CTE correction will take approximately 3 minutes to complete, and will use all of the cores. The `acs_destripe_plus` code will produce two new files: `jd5702jmq_flt.fits` and `jd5702jmq_flc.fits`. The FLT file is the usual output product from `calacs`, while the FLC file is the calibrated FLT image with the CTE correction applied."
   ]
  },
  {
   "cell_type": "code",
   "execution_count": null,
   "metadata": {},
   "outputs": [],
   "source": [
    "from acstools import acs_destripe_plus\n",
    "\n",
    "acs_destripe_plus.destripe_plus('jd5702jmq_raw.fits',cte_correct=True)"
   ]
  },
  {
   "cell_type": "markdown",
   "metadata": {},
   "source": [
    "### Correct the WCS\n",
    "\n",
    "The subarray products produced by this process do not have the proper WCS information in the header. The WCS information is normally updated by the pipeline via an additional call to AstroDrizzle. Here, we can manually update the WCS of our FLC product using `stwcs.updatewcs`. "
   ]
  },
  {
   "cell_type": "code",
   "execution_count": null,
   "metadata": {},
   "outputs": [],
   "source": [
    "from stwcs import updatewcs\n",
    "\n",
    "updatewcs.updatewcs('jd5702jmq_flc.fits')"
   ]
  }
 ],
 "metadata": {
  "kernelspec": {
   "display_name": "Python 3",
   "language": "python",
   "name": "python3"
  },
  "language_info": {
   "codemirror_mode": {
    "name": "ipython",
    "version": 3
   },
   "file_extension": ".py",
   "mimetype": "text/x-python",
   "name": "python",
   "nbconvert_exporter": "python",
   "pygments_lexer": "ipython3",
   "version": "3.5.4"
  }
 },
 "nbformat": 4,
 "nbformat_minor": 2
}
