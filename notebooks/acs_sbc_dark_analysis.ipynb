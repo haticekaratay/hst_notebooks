{
 "cells": [
  {
   "cell_type": "markdown",
   "metadata": {
    "nbpresent": {
     "id": "0d33cc02-bd22-422e-974b-893db4bc8a2e"
    }
   },
   "source": [
    "# Introduction\n",
    "\n",
    "\n",
    "This notebook has been prepared as a demo on how to perform aperture photometry in SBC images that contain an elevated dark rate. This problem arises when the detector temperature goes above ~25C. Keep [ISR ACS 2017-04](http://www.stsci.edu/hst/acs/documents/isrs/isr1704.pdf) open in a separate browser tab since it will be referred to in this document. The elevated dark primarily affects a large region of the detector just above and to the right of center (see Figure 4 of ISR). \n",
    "\n",
    "The following cell loads all the python packages needed for this example. "
   ]
  },
  {
   "cell_type": "code",
   "execution_count": null,
   "metadata": {
    "nbpresent": {
     "id": "6c8b2858-62fe-40bd-a114-8257661e0b0b"
    }
   },
   "outputs": [],
   "source": [
    "from astroquery.mast import Observations\n",
    "from drizzlepac.astrodrizzle import AstroDrizzle as adriz\n",
    "from matplotlib.colors import LogNorm\n",
    "import glob\n",
    "from astropy.table import Table\n",
    "from astropy.io import fits\n",
    "import math\n",
    "import numpy as np\n",
    "import shutil"
   ]
  },
  {
   "cell_type": "markdown",
   "metadata": {
    "nbpresent": {
     "id": "71a61091-6c4e-4567-880e-8d9908e4dfa4"
    }
   },
   "source": [
    "# Data\n",
    "\n",
    "The necessary data needs to be downloaded and placed in the correct locations.\n",
    "\n",
    "To run this notebook you will need the RAW dark frames from the calibration program 13961 and FLT and ASN files from visit 11 of program 13655. Place those images in the same directory as this notebook.\n",
    "\n",
    "The following commands query MAST for the necessery products and then download them."
   ]
  },
  {
   "cell_type": "code",
   "execution_count": null,
   "metadata": {},
   "outputs": [],
   "source": [
    "science_list = Observations.query_criteria(obs_id='JCMC11*')\n",
    "Observations.download_products(science_list['obsid'],mrp_only=False,download_dir='./science',\n",
    "                               productSubGroupDescription=['FLT','ASN'])\n",
    "\n",
    "darks_list = Observations.query_criteria(proposal_id='13961',obstype='cal')\n",
    "Observations.download_products(darks_list['obsid'],mrp_only=False,download_dir='./darks',\n",
    "                               productSubGroupDescription=['RAW'])"
   ]
  },
  {
   "cell_type": "code",
   "execution_count": null,
   "metadata": {
    "nbpresent": {
     "id": "7dc94927-7519-4934-816a-365a01e4f916"
    }
   },
   "outputs": [],
   "source": [
    "dark_files = glob.glob('darks/mastDownload/HST/*/*fits')\n",
    "for im in dark_files:\n",
    "    shutil.move(im,'darks/')\n",
    "shutil.rmtree('darks/mastDownload/')\n",
    "\n",
    "science_files = glob.glob('science/mastDownload/HST/*/*fits')\n",
    "for im in science_files:\n",
    "    shutil.move(im,'./')\n",
    "shutil.rmtree('science/')"
   ]
  },
  {
   "cell_type": "markdown",
   "metadata": {
    "nbpresent": {
     "id": "927b9c58-0191-49a0-a5fd-faa64b7b800e"
    }
   },
   "source": [
    "# Overview\n",
    "\n",
    "\n",
    "What we will try to do here is use dark frames to make a drizzled product that mimics the background in the science product. We will use that drizzled dark product to measure the dark rate to be subtracted from the photometry of the science product.\n",
    "\n",
    "We are reading in the log file and printing its content. Columns **mdectodt1** and **mdecodt2** contain the temperature at the beginning and end of the exposure respectively."
   ]
  },
  {
   "cell_type": "code",
   "execution_count": null,
   "metadata": {
    "nbpresent": {
     "id": "7bbe33b2-6929-412e-9fc3-401f69e12893"
    }
   },
   "outputs": [],
   "source": [
    "obslog = Table.read('data.log',format='ascii.fixed_width')\n",
    "obslog"
   ]
  },
  {
   "cell_type": "markdown",
   "metadata": {
    "nbpresent": {
     "id": "3a68cae2-e7ba-4779-a6ba-5c410979d3a3"
    }
   },
   "source": [
    "We will create a new column called **avgtemp**, containing the average temperature, and add it to the table."
   ]
  },
  {
   "cell_type": "code",
   "execution_count": null,
   "metadata": {
    "nbpresent": {
     "id": "2cf6ff63-9ea3-4b24-9a01-d6335fc63c3c"
    }
   },
   "outputs": [],
   "source": [
    "obslog['avgtemp'] = (obslog['mdecodt1']+obslog['mdecodt2'])/2.\n",
    "obslog"
   ]
  },
  {
   "cell_type": "markdown",
   "metadata": {
    "nbpresent": {
     "id": "1d7eab54-3373-47d5-bf28-c14eda6a8335"
    }
   },
   "source": [
    "# Creating dark images\n",
    "\n",
    "\n",
    "The table above shows that the second image taken with the F165LP filter has an average teperature above 25C and therefore has been affected by elevated dark rate. Specifically, the elevated dark rate comes from the final image in the visit **jcmc11e6q_flt.fits**, which has a temperature above 25C. \n",
    "\n",
    "Let's make drizzled products for each filter. We do this by making a list of the ASN files and drizzling those one by one. The drizzle parameters below are the appropriate ones for SBC data. In particular, Steps 1-6 of the drizzling procedure have been turned off since their purpose is to identify and mask cosmic rays. SBC images do not have cosmic rays so you can just proceed straight to the drizzling. We specify that the drizzle products have a plate scale of 0.025\"/pixel."
   ]
  },
  {
   "cell_type": "code",
   "execution_count": null,
   "metadata": {
    "nbpresent": {
     "id": "101eaef4-7c3c-4ea1-a5c4-eaacf335f38b"
    }
   },
   "outputs": [],
   "source": [
    "asnlist = glob.glob('*asn.fits')\n",
    "\n",
    "for asn in asnlist:\n",
    "    \n",
    "    exps = fits.getdata(asn)\n",
    "    first_im = exps['memname'][0]\n",
    "    output_name = fits.getval(first_im.lower()+'_flt.fits','filter1',ext=0)\n",
    "    \n",
    "    adriz(asn,\n",
    "          output=output_name,\n",
    "          runfile='',\n",
    "          context=False,\n",
    "          build=False,\n",
    "          preserve=False,\n",
    "          clean=True,\n",
    "          static=False,\n",
    "          skysub=False,\n",
    "          driz_separate=False,\n",
    "          median=False,\n",
    "          blot=False,\n",
    "          driz_cr=False,\n",
    "          driz_combine=True,\n",
    "          final_wcs=True,\n",
    "          final_scale=0.025\n",
    "         )"
   ]
  },
  {
   "cell_type": "markdown",
   "metadata": {
    "nbpresent": {
     "id": "d0839329-6d96-4441-b63b-554a812d1329"
    }
   },
   "source": [
    "Figure 1 of the ISR shows that the dark rate above 25C varies. We therefore can't simply use the dark frames that have the same temperature as your affected science frame. We need to find the dark frame that contains a *dark rate* similar to your affected image. Below we open the two F165LP science frames and print out the sum of the pixels inside of a 200x200 box centered at (750,680). We then do the same for all the dark frames."
   ]
  },
  {
   "cell_type": "code",
   "execution_count": null,
   "metadata": {
    "nbpresent": {
     "id": "e7460fe7-2ff6-41b3-89d8-c7cb1ceebb2b"
    }
   },
   "outputs": [],
   "source": [
    "darklist = glob.glob('darks/*fits')\n",
    "print('jcmc11ctq_flt.fits',np.sum(fits.getdata('jcmc11ctq_flt.fits')[650:850,580:780]))\n",
    "print('jcmc11e6q_flt.fits',np.sum(fits.getdata('jcmc11e6q_flt.fits')[650:850,580:780]))\n",
    "\n",
    "for dark in darklist:\n",
    "    \n",
    "    sci = fits.getdata(dark)\n",
    "    print(dark[-18:],np.sum(sci[650:850,580:780]))"
   ]
  },
  {
   "cell_type": "markdown",
   "metadata": {
    "nbpresent": {
     "id": "e1c2cfb2-ec5f-4d38-a208-f79deccae931"
    }
   },
   "source": [
    "It looks like the two dark frames that come closest to the science frames are **jcrx01iqq** and **jcrx01iyq**. We will use those to make a combined master dark frame.\n",
    "\n",
    "To do this, we will insert the data of the dark images into copies of the science images. We will do this so that we keep the WCS information in the header to make a drizzled product. We must remember to adjust the exposure time of the copies of the science frames to that of the dark frames so that the drizzled products have the correct count rates."
   ]
  },
  {
   "cell_type": "code",
   "execution_count": null,
   "metadata": {
    "nbpresent": {
     "id": "21a2a7d3-1631-4e2d-b184-38314dcfd4df"
    }
   },
   "outputs": [],
   "source": [
    "!cp jcmc11ctq_flt.fits dark1.fits\n",
    "!cp jcmc11e6q_flt.fits dark2.fits\n",
    "\n",
    "darkdat1 = fits.getdata('darks/jcrx01iiq_raw.fits').astype(np.float)\n",
    "with fits.open('dark1.fits',mode='update') as hdu1:\n",
    "    hdu1[1].data[:,:] = darkdat1\n",
    "    hdu1[0].header['exptime'] = fits.getval('darks/jcrx01iiq_raw.fits','exptime',ext=0)\n",
    "    \n",
    "darkdat2 = fits.getdata('darks/jcrx01iyq_raw.fits').astype(np.float)\n",
    "with fits.open('dark2.fits',mode='update') as hdu2:\n",
    "    hdu2[1].data[:,:] = darkdat2\n",
    "    hdu2[0].header['exptime'] = fits.getval('darks/jcrx01iyq_raw.fits','exptime',ext=0)"
   ]
  },
  {
   "cell_type": "markdown",
   "metadata": {
    "nbpresent": {
     "id": "807e6f05-3914-4cd3-a6a4-aa29fa6e0606"
    }
   },
   "source": [
    "We can now make the drizzled dark frame using the two individual dark frames we just made as inputs. The drizzle parameters are the same as the ones used to make the science drizzled products."
   ]
  },
  {
   "cell_type": "code",
   "execution_count": null,
   "metadata": {
    "nbpresent": {
     "id": "c5856636-404d-4c1a-b24b-ab9828ad9bdd"
    }
   },
   "outputs": [],
   "source": [
    "adriz(['dark1.fits','dark2.fits'],\n",
    "        output='masterdark',\n",
    "        runfile='',\n",
    "        context=False,\n",
    "        build=False,\n",
    "        preserve=False,\n",
    "        clean=True,\n",
    "        static=False,\n",
    "        skysub=False,\n",
    "        driz_separate=False,\n",
    "        median=False,\n",
    "        blot=False,\n",
    "        driz_cr=False,\n",
    "        driz_combine=True,\n",
    "        final_wcs=True,\n",
    "        final_scale=0.025\n",
    "       )"
   ]
  },
  {
   "cell_type": "markdown",
   "metadata": {
    "nbpresent": {
     "id": "ecf01b3f-3b53-49de-b1b1-1bfb3d3ee446"
    }
   },
   "source": [
    "We will now display the images to confirm that they show similar elevated dark rates. You might want do display them in DS9 (or any other viewer) outside of this notebook so you can play with the stretch a bit and so you can see bigger versions of the images."
   ]
  },
  {
   "cell_type": "code",
   "execution_count": null,
   "metadata": {
    "nbpresent": {
     "id": "b3cbb099-4a65-4609-af0a-99adbdc4fde8"
    }
   },
   "outputs": [],
   "source": [
    "f165lp = fits.getdata('F165LP_drz_sci.fits')\n",
    "masterdark = fits.getdata('masterdark_drz_sci.fits')\n",
    "\n",
    "fig,ax = plt.subplots(1,2,figsize=(16,12))\n",
    "\n",
    "ax[0].imshow(f165lp,norm=LogNorm(),vmin=1e-5,vmax=0.01,interpolation='nearest',cmap='plasma')\n",
    "ax[1].imshow(masterdark,norm=LogNorm(),vmin=1e-5,vmax=0.01,interpolation='nearest',cmap='plasma')"
   ]
  },
  {
   "cell_type": "markdown",
   "metadata": {
    "nbpresent": {
     "id": "9f2e998b-2dfc-42e1-b7d4-668bd12d7646"
    }
   },
   "source": [
    "# Photometry\n",
    "\n",
    "\n",
    "The images look comparable. We will now proceed to performing some photometric analysis to estimate the dark current in the source.\n",
    "\n",
    "First we import some tasks from the `photutils` package and then set up two apertures we will use to measure the flux of different regions in the images.  "
   ]
  },
  {
   "cell_type": "code",
   "execution_count": null,
   "metadata": {
    "nbpresent": {
     "id": "5abd1ab0-587b-428f-bc16-666c57e44f16"
    }
   },
   "outputs": [],
   "source": [
    "from photutils import EllipticalAperture,aperture_photometry\n",
    "\n",
    "#This line creates two elliptical apertures.\n",
    "aper = EllipticalAperture([(735,710),(200,200)],a=70,b=40,theta=0.5*math.pi)"
   ]
  },
  {
   "cell_type": "markdown",
   "metadata": {
    "nbpresent": {
     "id": "53d9ebfc-dcf7-4743-a55c-8f3886106db5"
    }
   },
   "source": [
    "I am overplotting the two apertures in the images so you can see their locations."
   ]
  },
  {
   "cell_type": "code",
   "execution_count": null,
   "metadata": {
    "nbpresent": {
     "id": "4a002def-e320-4200-8382-979330625c8a"
    }
   },
   "outputs": [],
   "source": [
    "fig,ax = plt.subplots(1,2,figsize=(16,12))\n",
    "\n",
    "ax[0].imshow(f165lp,norm=LogNorm(),vmin=1e-5,vmax=0.001,interpolation='nearest',cmap='plasma')\n",
    "ax[1].imshow(masterdark,norm=LogNorm(),vmin=1e-5,vmax=0.001,interpolation='nearest',cmap='plasma')\n",
    "aper.plot(ax=ax[0],edgecolor='blue')\n",
    "aper.plot(ax=ax[1],edgecolor='blue')"
   ]
  },
  {
   "cell_type": "markdown",
   "metadata": {
    "nbpresent": {
     "id": "71ba6c61-0189-4e65-afe7-2ccabdfa49b1"
    }
   },
   "source": [
    "Finally, we do the photometry using the two apertures on both images. We print out the tables to see the results."
   ]
  },
  {
   "cell_type": "code",
   "execution_count": null,
   "metadata": {
    "nbpresent": {
     "id": "27327b3e-fa76-4b5f-91ca-a60f28a6bae5"
    }
   },
   "outputs": [],
   "source": [
    "f165lp_phot = aperture_photometry(f165lp, aper)\n",
    "masterdark_phot = aperture_photometry(masterdark, aper)"
   ]
  },
  {
   "cell_type": "code",
   "execution_count": null,
   "metadata": {
    "nbpresent": {
     "id": "a260459f-a96d-4188-aa04-b4c3ce04a094"
    }
   },
   "outputs": [],
   "source": [
    "print(f165lp_phot)"
   ]
  },
  {
   "cell_type": "code",
   "execution_count": null,
   "metadata": {
    "nbpresent": {
     "id": "36cabca8-ca93-4e28-844d-6d3dc34d9b8b"
    }
   },
   "outputs": [],
   "source": [
    "print(masterdark_phot)"
   ]
  },
  {
   "cell_type": "code",
   "execution_count": null,
   "metadata": {
    "nbpresent": {
     "id": "c67e1ffa-444b-4da1-a898-4ff87e99982a"
    }
   },
   "outputs": [],
   "source": [
    "f165lp_phot['aperture_sum']-masterdark_phot['aperture_sum']"
   ]
  },
  {
   "cell_type": "markdown",
   "metadata": {
    "nbpresent": {
     "id": "6413c886-77af-4d74-9609-dbcc47d6a0b1"
    }
   },
   "source": [
    "The target aperture has 2.86 cts/sec, while the same aperture in the dark frame has 0.322 cts/sec. That means that ~11% of the flux in your source comes from dark current and should be subtracted out, leaving a flux for you source of 2.543 cts/sec. \n",
    "\n",
    "# Final thoughts\n",
    "\n",
    "\n",
    "1. The difference in flux in the second aperture (the one in the lower left portion of the image) shows that there is a small residual background of ~0.02 cts/sec in the science frame. This could be real background from the sky (and not dark current from the detector that you might want to account for properly in your flux and error budget.\n",
    "\n",
    "2. The dark frame we created does not have the exact same dark count rate as we measured in the science frame. You could try searching for other darks that more closely resemble your science frame. \n",
    "\n",
    "3. These problems can be avoided using a few strategies detailed in [ISR ACS 2018-??](http://www.stsci.edu/hst/acs/documents/isrs/)"
   ]
  },
  {
   "cell_type": "code",
   "execution_count": null,
   "metadata": {
    "nbpresent": {
     "id": "4109dcda-48e2-4275-9d8a-b63ecb815e58"
    }
   },
   "outputs": [],
   "source": []
  }
 ],
 "metadata": {
  "kernelspec": {
   "display_name": "Python [default]",
   "language": "python",
   "name": "python3"
  },
  "language_info": {
   "codemirror_mode": {
    "name": "ipython",
    "version": 3
   },
   "file_extension": ".py",
   "mimetype": "text/x-python",
   "name": "python",
   "nbconvert_exporter": "python",
   "pygments_lexer": "ipython3",
   "version": "3.5.5"
  }
 },
 "nbformat": 4,
 "nbformat_minor": 2
}
