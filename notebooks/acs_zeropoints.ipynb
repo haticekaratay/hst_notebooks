{
 "cells": [
  {
   "cell_type": "markdown",
   "metadata": {},
   "source": [
    "# Table of Contents\n",
    "\n",
    "1. [Introduction](#_introduction)  \n",
    "  1.1 [Summary of Changes Made in Deriving the 2016 ACS/WFC Zeropoints](#_changes2016)\n",
    "2. [Photometric Systems](#_systems)\n",
    "3. [Photometric Keywords in the SCI Extension of ACS Images](#_keywords)\n",
    "4. [Examples](#_examples)  \n",
    "  4.1 [Calculating the Zeropoints for a Specific Date](#_ex_date)  \n",
    "  4.2 [Converting Between Instrumental and Physical Fluxes/Magnitudes](#_ex_convert)\n",
    "5. [References](#_references)"
   ]
  },
  {
   "cell_type": "markdown",
   "metadata": {},
   "source": [
    "# Introduction <a id=\"_introduction\"></a>\n",
    "\n",
    "For convenience, the ACS Team implemented the [Zeropoint Calculator](https://acszeropoints.stsci.edu) to compute time-dependent zeropoints for all supported observing modes. We strongly advised users to use this calculator to derive the zeropoints required for photometric calibration of their observation. The examples below give the same results as the calculator.\n",
    "\n",
    " This webpage contains information for how to calibrate photometric measurements made with the *HST*/ACS instrument. There are several supporting documents linked below which give a more detailed explanation of many topics and methods used to in the photometric calibration of the ACS instrument. The topics on this page will be suitable for most users performing basic aperture photometry. \n",
    "Aperture correction tables can be found on the [Aperture Corrections](http://www.stsci.edu/hst/acs/analysis/apcorr) webpage.\n",
    "\n",
    "To download this page as a Python 3 Jupyter Notebook, please visit the [acs-notebook GitHub page](https://github.com/spacetelescope/acs-notebook).\n",
    "\n",
    "#### Summary of Changes Made in Deriving the 2016 ACS/WFC Zeropoints <a id=\"_changes2016\"></a>\n",
    "\n",
    "Bohlin (2016; hereafter ISR [2016-03](http://www.stsci.edu/hst/acs/documents/isrs/1603.html)) continues the work documented in ACS ISRs [2011-02](http://www.stsci.edu/hst/acs/documents/isrs/isr1102.pdf), [2011-03](http://www.stsci.edu/hst/acs/documents/isrs/isr1103.pdf), and [2012-01](http://www.stsci.edu/hst/acs/documents/isrs/isr1201.pdf) by performing the most precise set of flux calibration for the HRC and WFC cameras to date. The data are comprised of ~18 orbits of the primary hot white dwarf stars G191B2B, GC153, and GD71, which are used to define the ACS flux calibration and its change over time, spanning a ~7 year period from August 2009 to March 2016. The average decline in sensitivity is 0.061% ± 0.007% per year across all filters, which differs at most by $<1\\sigma$ from the measured rate of 0.035% ± 0.037% for F850LP; therefore, the average loss rate is adopted for all WFC data taken after SM4 (2009.4). even with gain adjustments made after the revival of the ACS WFC to match post-SM4 photometry to 2002.4 epoch photometry of 47 Tuc for F606W (ACS ISR [2011-03](http://www.stsci.edu/hst/acs/documents/isrs/isr1103.pdf)), an additional (small) shift in sensitivity by 0.997 improves the match at F606W. These adjustments range from 0.996 to 1.007 for the other filters. After applying corrections for sensitivity loss and renormalizing, the new observations and newly reprocessed data for F435W and F814W required shifts to each filter's bandpass transmission function to reduce the maximum error. Once all of the adjustments are made, the fully corrected photometry at the WFC1-1K reference point in the eight broadband filters achieves the 1% precision goal.\n",
    "\n",
    "Comparing the WFC `PHOTFLAM` results of ISR [2016-03](http://www.stsci.edu/hst/acs/documents/isrs/1603.html) with [Sirianni et al. (2005)](http://adsabs.harvard.edu/abs/2005PASP..117.1049S) for 2002.16 epoch reveals differences ranging from 5% smaller for F660N to 1% larger for F550M, while the eight broadband filters are 1$-$3% smaller. For the HRC, differences range from 0$-$3% smaller, except for F344N, where the new calibration is 3% larger. These differences are due mostly to changes in the CALSPEC reference spectral energy distributions (SEDs) and to a refined and expanded set of ACS observations of these standard stars."
   ]
  },
  {
   "cell_type": "markdown",
   "metadata": {},
   "source": [
    "## Photometric Systems <a id=\"_systems\"></a>\n",
    "\n",
    "Here we define several terms generally used in the photometric analysis of *HST*/ACS observations.\n",
    "\n",
    "* **Flux:** The average flux $F$ (units: erg cm$^{-2}$ s$^{-1}$ Ang$^{-1}$) over an ACS bandpass is $F=N~\\times$ `PHOTFLAM`, where $N$ is the count rate in an infinite aperture. For count rates $N_{\\mathrm{ap}}$ in a given aperture, $N=N_{\\mathrm{ap}}/EE$ where $EE$ is the fractional encircled energy. See the ACS Data Handbook and ISR 2016-03 section 7.3 for more information on aperture corrections.\n",
    "\n",
    "\n",
    "* **VegaMag:** A magnitude system in which Vega has an apparent magnitude of 0 at all wavelengths. The Vega magnitude of a star with flux $F$ is $m_{\\mathrm{Vega}}=-2.5\\log_{10}(F/F_{\\mathrm{Vega}})$ where $F_{\\mathrm{Vega}}$ is the flux spectrum of Vega from the [CALSPEC](http://www.stsci.edu/hst/observatory/crds/calspec.html) archive.\n",
    "\n",
    "\n",
    "* **STMag and ABMag:** These magnitude systems differ from VegaMag in that they have an artifical reference flux for conversion to magnitude. The reference flux for STMag ($3.63\\times10^{-9}$ erg cm$^{-2}$ s$^{-1}$ Ang$^{-1}$) is flat in wavelength space, while the reference for ABMag ($3.63\\times10^{-20}$ erg cm$^{-2}$ s$^{-1}$ Hz$^{-1}$) is flat in frequency space. The conversion between flux density and magnitude for these photometric systems are:\n",
    "    * $m_{\\mathrm{ST}} = -2.5\\log_{10}(F_\\lambda) - 21.10$\n",
    "    * $m_{\\mathrm{AB}} = -2.5\\log_{10}(F_\\nu) - 48.60$"
   ]
  },
  {
   "cell_type": "markdown",
   "metadata": {},
   "source": [
    "## Photometric Keywords in the SCI Extension of ACS Images <a id=\"_keywords\"></a>\n",
    "\n",
    "Here we describe several header keywords present in ACS FITS files. These keywords can be used to obtain photometric calibration information for your data.\n",
    "\n",
    "* `PHOTMODE`: Observation configuration for photometric calibration.\n",
    "\n",
    "\n",
    "* `PHOTFLAM`: Inverse sensitivy (units: erg cm$^{-2}$ Ang$^{-1}$ electron$^{-1}$). This represents the flux per unit count rate in electrons per second.\n",
    "\n",
    "\n",
    "* `PHOTZPT`: STMag zeropoint.\n",
    "\n",
    "\n",
    "* `PHOTPLAM`: Pivot wavelength (units: Angstroms)\n",
    "\n",
    "The `PHOTFLAM` and `PHOTPLAM` header keywords are used to derive the instrumental zeropoint magnitudes, which are defined to be the magnitude of an object that produces one count per second. The instrumental magnitudes are defined as follows:\n",
    "\n",
    "* $\\mathrm{ZP}_{\\mathrm{ST}} = -2.5\\log_{10}($ `PHOTFLAM` $) - 21.10$\n",
    "\n",
    "* $\\mathrm{ZP}_{\\mathrm{AB}} = -2.5\\log_{10}($ `PHOTFLAM` $) - 5\\log_{10}($ `PHOTPLAM` $) - 2.408$\n",
    "\n",
    "In addition to being present in the image headers, the `PHOTFLAM` value for a given date can be calculated using [PySynphot](http://pysynphot.readthedocs.io/en/latest/). See the [Examples](#_examples) below.\n",
    "\n",
    "**Note:** The ACS absolute flux calibration represented by the `PHOTFLAM` keyword is applicable to the distortion corrected pipeline products (\\*_drz.fits or \\*_drc.fits) produced by [AstroDrizzle](http://drizzlepac.readthedocs.io/en/deployment/astrodrizzle.html). In order to extract photometry from non-geometrically-corrected pipeline products (\\*_flt.fits or \\*_flc.fits), the appropriate pixel area maps must be applied to the images first. See the [ACS Data Handbook](http://www.stsci.edu/hst/acs/documents/handbooks/currentDHB/acs_cover.html) section [5.1.3](http://www.stsci.edu/hst/acs/documents/handbooks/currentDHB/acs_Ch52.html#94716) for more information."
   ]
  },
  {
   "cell_type": "markdown",
   "metadata": {},
   "source": [
    "## Examples <a id=\"_examples\"></a>\n",
    "\n",
    "<div class=\"alert alert-block alert-warning\"><b>Warning:</b> Before running any code, please be sure you have installed or updated to the latest version of <a href=\"https://astroconda.readthedocs.io/en/latest/\" target=\"new\" class=\"alert-link\">AstroConda</a>.\n",
    "\n",
    "You will also need to install the <a href=\"http://www.stsci.edu/hst/observatory/crds/throughput.html\" target=\"new\" class=\"alert-link\">component throughput tables</a> and <a href=\"http://www.stsci.edu/hst/observatory/crds/calspec.html\" target=\"new\" class=\"alert-link\">CALSPEC</a> spectroscopic library for use with PySynphot.</div>\n",
    "\n",
    "### Calculating the Zeropoints for a Specific Date <a id=\"_ex_date\"></a>\n",
    "\n",
    "For the first example, we will calculate all of the zeropoints (VegaMag, STMag, and ABMag) for a specific date and filter. In this case, we will use Jan 1, 2017 (the MJD of this date is 57754) and the F555W filter. Using this information, [PySynphot](http://pysynphot.readthedocs.io/en/latest/) will determine the appropriate `PHOTFLAM` and `PHOTPLAM` values. Given a source specrtrum, it will also calculate the VegaMag, STMag, and ABMag magnitudes for the source. By choosing a spectrum that produces a count rate of 1 count/second (we can do this by normalizing our source spectrum), [PySynphot](http://pysynphot.readthedocs.io/en/latest/) can be made to return the VegaMag, STMag, and ABMag zeropoints.\n",
    "\n",
    "Recall that the appropriate `PHOTFLAM` and `PHOTPLAM` values for a given observation can be found in the SCI extention headers of every ACS image."
   ]
  },
  {
   "cell_type": "code",
   "execution_count": 1,
   "metadata": {},
   "outputs": [
    {
     "name": "stdout",
     "output_type": "stream",
     "text": [
      "5360.938374660126 5346.10754454 5334.019379527958\n",
      "PHOTFLAM = 1.9641265291094434e-19\n",
      "PHOTPLAM = 5360.938374660126\n",
      "\n",
      "VegaMag_ZP = 25.712712461641793\n",
      "STMag_ZP = 25.667076345950036\n",
      "ABMag_ZP = 25.71292402862334\n"
     ]
    }
   ],
   "source": [
    "import pysynphot as pyS\n",
    "import numpy as np\n",
    "\n",
    "# Set up bandpass and source spectrum. Perform a \n",
    "# synthetic observation of the source. Note that the\n",
    "# term 'counts' in PySynphot is variable for each instrument.\n",
    "# For ACS, 'counts' refers to electrons.\n",
    "bp = pyS.ObsBandpass('acs,wfc1,f555w,mjd#57754')\n",
    "spec_bb = pyS.BlackBody(10000)\n",
    "spec_bb_norm = spec_bb.renorm(1, 'counts', bp)\n",
    "obs = pyS.Observation(spec_bb_norm, bp)\n",
    "\n",
    "# Get photometric calibration information.\n",
    "photflam = obs.effstim('flam') \n",
    "photplam = bp.pivot() \n",
    "\n",
    "# Get the magnitudes of the source spectrum in the\n",
    "# bandpass. Because the source was normalized to\n",
    "# 1 electron per second, the magnitudes are the \n",
    "# zeropoints in their respective systems.\n",
    "# e.g. m_vega = -2.5*log10(counts) + zpt_vega\n",
    "zp_vega = obs.effstim('vegamag')\n",
    "zp_st = obs.effstim('stmag')\n",
    "zp_ab = obs.effstim('abmag')\n",
    "\n",
    "print(bp.pivot(),obs.efflam(), obs.pivot())\n",
    "# Print the results.\n",
    "print('PHOTFLAM = {}'.format(photflam))\n",
    "print('PHOTPLAM = {}'.format(photplam))\n",
    "print('')\n",
    "print('VegaMag_ZP = {}'.format(zp_vega))\n",
    "print('STMag_ZP = {}'.format(zp_st))\n",
    "print('ABMag_ZP = {}'.format(zp_ab))\n"
   ]
  },
  {
   "cell_type": "markdown",
   "metadata": {},
   "source": [
    "### Converting Between Instrumental and Physical Fluxes/Magnitudes <a id=\"_ex_convert\"></a>\n",
    "\n",
    "In this example, we have a measurement of the fluxes of several point sources in 0.2 arcsecond (4 pixel) radius apertures using the ACS/WFC camera and the F555W filter taken on Jan 1, 2017. We will need to first apply an aperture correction to our measurements and then convert from the instrumental units of electrons per second to physically meaningful values (e.g., STMag and ABMag).\n",
    "\n",
    "While we can use [PySynphot](http://pysynphot.readthedocs.io/en/latest/) to estimate the aperture corrections, it is best to measure these values from a selection of isolated point sources in your data. In the example below, we have used the PySynphot method.\n",
    "\n",
    "Aperture corrections from 0.5 and 1.0 arcseconds to \"infinity\" can be found on the [Aperture Corrections](http://www.stsci.edu/hst/acs/analysis/apcorr) webpage. These tables are a collection of information from several publications and include information for all ACS cameras (WFC, SBC, and HRC). For ACS, the \"infinite\" aperture corresponds to a radius of 5.5 arcseconds.\n",
    "\n",
    "If using the notebook version of these examples, this assumes you have run the previous example first to define several variables. If you have not, then please run the code in the example [Calculating the Zeropoints for a Specific Date](#_ex_date). "
   ]
  },
  {
   "cell_type": "code",
   "execution_count": 2,
   "metadata": {},
   "outputs": [
    {
     "name": "stdout",
     "output_type": "stream",
     "text": [
      "Aperture correction 0.2 -> 0.5 = 0.9209783626680301\n"
     ]
    },
    {
     "data": {
      "text/html": [
       "&lt;Table length=4&gt;\n",
       "<table id=\"table4489017552\" class=\"table-striped table-bordered table-condensed\">\n",
       "<thead><tr><th>Measured Flux</th><th>F_lambda</th><th>ST Mag</th><th>AB Mag</th><th>Vega Mag</th></tr></thead>\n",
       "<thead><tr><th>float64</th><th>float64</th><th>float64</th><th>float64</th><th>float64</th></tr></thead>\n",
       "<tr><td>5.2393</td><td>1.22115897913e-18</td><td>23.6830694821</td><td>23.7288654075</td><td>23.7287055978</td></tr>\n",
       "<tr><td>7.2935</td><td>1.69994522441e-18</td><td>23.3239126806</td><td>23.3697086059</td><td>23.3695487962</td></tr>\n",
       "<tr><td>3.2355</td><td>7.54119801685e-19</td><td>24.2063991384</td><td>24.2521950637</td><td>24.2520352541</td></tr>\n",
       "<tr><td>4.9368</td><td>1.1506532644e-18</td><td>23.7476388153</td><td>23.7934347406</td><td>23.793274931</td></tr>\n",
       "</table>"
      ],
      "text/plain": [
       "<Table length=4>\n",
       "Measured Flux      F_lambda         ST Mag        AB Mag       Vega Mag  \n",
       "   float64         float64         float64       float64       float64   \n",
       "------------- ----------------- ------------- ------------- -------------\n",
       "       5.2393 1.22115897913e-18 23.6830694821 23.7288654075 23.7287055978\n",
       "       7.2935 1.69994522441e-18 23.3239126806 23.3697086059 23.3695487962\n",
       "       3.2355 7.54119801685e-19 24.2063991384 24.2521950637 24.2520352541\n",
       "       4.9368  1.1506532644e-18 23.7476388153 23.7934347406  23.793274931"
      ]
     },
     "execution_count": 2,
     "metadata": {},
     "output_type": "execute_result"
    }
   ],
   "source": [
    "import pysynphot as pyS\n",
    "import numpy as np\n",
    "from astropy.table import Table\n",
    "\n",
    "# Create some fake fluxes in electrons per second.\n",
    "instrumental_flux = np.array([5.2393, 7.2935, 3.2355, 4.9368])\n",
    "\n",
    "# Get and apply the aperture correction from 0.2\" to 0.5\". Use\n",
    "# the blackbody defined in the previous example to be our source\n",
    "# and measure the count rate in a 0.2\" and 0.5\" aperture.\n",
    "band02 = pyS.ObsBandpass('acs,wfc1,f555w,mjd#57754,aper#0.2')\n",
    "band05 = pyS.ObsBandpass('acs,wfc1,f555w,mjd#57754,aper#0.5')\n",
    "\n",
    "obs02 = pyS.Observation(spec_bb, band02)\n",
    "obs05 = pyS.Observation(spec_bb, band05)\n",
    "\n",
    "correction_05 = obs02.countrate()/obs05.countrate()\n",
    "print('Aperture correction 0.2 -> 0.5 = {}'.format(correction_05))\n",
    "\n",
    "# Apply the aperture correction from 0.2\" to 0.5\" to measured \n",
    "# fluxes. Then apply the correction from 0.5\" to infinity.\n",
    "# The correction from 0.5\" to infinity for the ACS/WFC camera\n",
    "# in F555W is 0.915.\n",
    "correction_inf = 0.915\n",
    "\n",
    "flux05 = instrumental_flux / correction_05\n",
    "flux_inf = flux05 / correction_inf\n",
    "\n",
    "# Let's recalculate the zeropoints assuming we only know\n",
    "# PHOTFLAM and PHOTPLAM rather than having PySynphot tell\n",
    "# us the values. We will re-use the zeropoint for VegaMag\n",
    "# from the previous example as we would have used PySynphot \n",
    "# to get that value in any case.\n",
    "zp_stmag = -2.5 * np.log10(photflam) - 21.10\n",
    "zp_abmag = -2.5 * np.log10(photflam) - (5 * np.log10(photplam)) - 2.408\n",
    "\n",
    "# Now convert instrumental fluxes to physical fluxes and magnitudes.\n",
    "# f_lambda is the flux density in units of erg/sec/cm^2/Angstrom.\n",
    "f_lambda = flux_inf * photflam\n",
    "stmags = -2.5 * np.log10(flux_inf) + zp_stmag\n",
    "abmags = -2.5 * np.log10(flux_inf) + zp_abmag\n",
    "vegamags = -2.5 * np.log10(flux_inf) + zp_vega\n",
    "\n",
    "# Assemble the values into an Astropy Table. Note that we could\n",
    "# attach units to these columns, however advanced Astropy\n",
    "# Tables use is outside the scope of this example.\n",
    "phot_table = Table({'Measured Flux': instrumental_flux, 'F_lambda': f_lambda,\n",
    "                    'ST Mag': stmags, 'AB Mag': abmags, 'Vega Mag': vegamags}, \n",
    "                   names=['Measured Flux', 'F_lambda', 'ST Mag', 'AB Mag', 'Vega Mag'])\n",
    "\n",
    "phot_table"
   ]
  },
  {
   "cell_type": "markdown",
   "metadata": {},
   "source": [
    "## References <a id=\"_references\"></a>\n",
    "\n",
    "* [Avila, R. J., Chiaberge, M. 2016, ACS ISR 2016-05](http://www.stsci.edu/hst/acs/documents/isrs/isr1605.pdf)\n",
    "* [Bohlin, R. C. 2011, ACS ISR 2011-02](http://www.stsci.edu/hst/acs/documents/isrs/isr1102.pdf)\n",
    "* [Bohlin, R. C. 2012, ACS ISR 2012-01](http://www.stsci.edu/hst/acs/documents/isrs/isr1201.pdf)\n",
    "* [Bohlin, R. C. 2016, ACS ISR 2016-03](http://www.stsci.edu/hst/acs/analysis/zeropoints/hst/acs/documents/isrs/1603.html)\n",
    "* [Bohlin, R. C., Mack, J., & Ubeda L. 2011, ACS ISR 2011-03](http://www.stsci.edu/hst/acs/documents/isrs/isr1103.pdf)\n",
    "* [Tran, D. et al. 2002, \"2002 HST Calibration Workshop\"](http://www.stsci.edu/hst/HST_overview/documents/calworkshop/workshop2002/CW2002_Papers/tran.pdf)\n",
    "* [Sirianni, M. et al. 2005, PASP, 117, 1049S](http://adsabs.harvard.edu/abs/2005PASP..117.1049S)"
   ]
  }
 ],
 "metadata": {
  "kernelspec": {
   "display_name": "Python 3",
   "language": "python",
   "name": "python3"
  },
  "language_info": {
   "codemirror_mode": {
    "name": "ipython",
    "version": 3
   },
   "file_extension": ".py",
   "mimetype": "text/x-python",
   "name": "python",
   "nbconvert_exporter": "python",
   "pygments_lexer": "ipython3",
   "version": "3.5.4"
  }
 },
 "nbformat": 4,
 "nbformat_minor": 2
}
